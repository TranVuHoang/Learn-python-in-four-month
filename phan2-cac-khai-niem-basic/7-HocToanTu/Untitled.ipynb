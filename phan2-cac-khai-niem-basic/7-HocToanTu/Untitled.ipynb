{
 "cells": [
  {
   "cell_type": "code",
   "execution_count": 1,
   "metadata": {},
   "outputs": [],
   "source": [
    "# Bài 7: Học các toán tử"
   ]
  },
  {
   "cell_type": "code",
   "execution_count": 6,
   "metadata": {},
   "outputs": [
    {
     "data": {
      "text/plain": [
       "1"
      ]
     },
     "execution_count": 6,
     "metadata": {},
     "output_type": "execute_result"
    }
   ],
   "source": [
    "# Nội dung bài học:\n",
    "'''\n",
    "1. Toán tử số học cơ bản\n",
    "2. Toán tử gán\n",
    "3. Toán tử so sánh\n",
    "4. Toán tử Logic\n",
    "5. Độ ưu tiên toán tử\n",
    "'''\n",
    "1"
   ]
  },
  {
   "cell_type": "code",
   "execution_count": 9,
   "metadata": {},
   "outputs": [
    {
     "data": {
      "text/plain": [
       "2"
      ]
     },
     "execution_count": 9,
     "metadata": {},
     "output_type": "execute_result"
    }
   ],
   "source": [
    "#1. Toán tử số học cơ bản\n",
    "\"\"\"\n",
    "+ Cộng\n",
    "- Trừ\n",
    "* Nhân\n",
    "/ Chia\n",
    "// Chia lấy nguyên\n",
    "% chia lấy dư\n",
    "** lũy thừa\n",
    "\"\"\"\n",
    "2"
   ]
  },
  {
   "cell_type": "code",
   "execution_count": 11,
   "metadata": {},
   "outputs": [
    {
     "data": {
      "text/plain": [
       "3"
      ]
     },
     "execution_count": 11,
     "metadata": {},
     "output_type": "execute_result"
    }
   ],
   "source": [
    "#2.Toán tử gán\n",
    "\"\"\"\n",
    "= Phép gán giá trị bên phải cho biến bên trái dấu bằng\n",
    "+= cộng và gán\n",
    "-= trừ và gán\n",
    "*= nhân và gán\n",
    "/= chia bằng\n",
    "// chia và gán(lấy nguyên)\n",
    "%= chia và gán(lấy dư)\n",
    "**= lũy thừa và gán\n",
    "\"\"\"\n",
    "3"
   ]
  },
  {
   "cell_type": "code",
   "execution_count": 13,
   "metadata": {},
   "outputs": [
    {
     "data": {
      "text/plain": [
       "4"
      ]
     },
     "execution_count": 13,
     "metadata": {},
     "output_type": "execute_result"
    }
   ],
   "source": [
    "#3. Toán tử So sánh\n",
    "\"\"\"\n",
    "/*\n",
    "|--------------------------------------------------------------------------\n",
    "| Toán tử So sánh\n",
    "|--------------------------------------------------------------------------\n",
    "|\n",
    "|  == So sánh bằng\n",
    "|  != So sánh không bằng\n",
    "|  <  So sánh nhỏ hơn\n",
    "|  <= So sánh nhỏ hơn hoặc bằng\n",
    "|  >  So sánh lớn hơn\n",
    "|  >= So sánh lớn hơn hoặc bằng\n",
    "|  is trả về true nếu biến ở hai bên toán tử cùng trỏ tới 1 đối tượng\n",
    "|  is not trả về flase nếu các biến ở 2 bên toán tử cùng trỏ tới 1 đối tượng\n",
    "|\n",
    "*/  \n",
    "\"\"\"\n",
    "4"
   ]
  },
  {
   "cell_type": "code",
   "execution_count": 16,
   "metadata": {},
   "outputs": [
    {
     "name": "stdout",
     "output_type": "stream",
     "text": [
      "4. Toán tử logic\n"
     ]
    },
    {
     "data": {
      "text/plain": [
       "4"
      ]
     },
     "execution_count": 16,
     "metadata": {},
     "output_type": "execute_result"
    }
   ],
   "source": [
    "print(\"4. Toán tử logic\")\n",
    "'''\n",
    "/*\n",
    "|--------------------------------------------------------------------------\n",
    "| 4.Toán tử Logic\n",
    "|--------------------------------------------------------------------------\n",
    "|\n",
    "|  and Toán tử và: Nếu cả 2 điều kiện là True thì kq sẽ là True\n",
    "|  or Toán tử Hoặc: Chỉ cần 1 điều kiện True thì nó true\n",
    "|  \n",
    "|  not toán tử phủ định. Thông thường nó dùng để đảo ngược trạng thái logic của toán hạng\n",
    "*/  \n",
    "'''\n",
    "4"
   ]
  },
  {
   "cell_type": "code",
   "execution_count": 18,
   "metadata": {},
   "outputs": [
    {
     "data": {
      "text/plain": [
       "5"
      ]
     },
     "execution_count": 18,
     "metadata": {},
     "output_type": "execute_result"
    }
   ],
   "source": [
    "\"\"\"\n",
    "/*\n",
    "|--------------------------------------------------------------------------\n",
    "| 5. Độ ưu tiên toán tử\n",
    "|--------------------------------------------------------------------------\n",
    "|\n",
    "|     Python có ràng buộc thứ tự ưu tiên của các toán tử. Tuy nhiên \n",
    "|  tốt nhất là các bạn hãy điều khiển nó bằng cách dùng cặp ngoặc tròn()\n",
    "|  để nó rõ nghĩa hơn. Bảng dưới đây để tham khảo độ ưu tiên từ cao xuống\n",
    "|  thấp\n",
    "|\n",
    "*/  \n",
    "\"\"\"\n",
    "5"
   ]
  },
  {
   "cell_type": "code",
   "execution_count": 33,
   "metadata": {},
   "outputs": [
    {
     "name": "stdout",
     "output_type": "stream",
     "text": [
      "5\n",
      "25\n"
     ]
    }
   ],
   "source": [
    "# Thực hành\n",
    "x = 5\n",
    "y = x** 2\n",
    "print(x)\n",
    "print(y)"
   ]
  },
  {
   "cell_type": "code",
   "execution_count": 21,
   "metadata": {},
   "outputs": [
    {
     "name": "stdout",
     "output_type": "stream",
     "text": [
      "True\n"
     ]
    }
   ],
   "source": [
    "year = 2018\n",
    "t = year % 2 == 0 and year % 3 > 1\n",
    "print(t)"
   ]
  },
  {
   "cell_type": "code",
   "execution_count": 22,
   "metadata": {},
   "outputs": [
    {
     "name": "stdout",
     "output_type": "stream",
     "text": [
      "False\n"
     ]
    }
   ],
   "source": [
    "t = year % 2 == 0 and year % 3 > 5\n",
    "print(t)"
   ]
  },
  {
   "cell_type": "code",
   "execution_count": 24,
   "metadata": {},
   "outputs": [
    {
     "name": "stdout",
     "output_type": "stream",
     "text": [
      "True\n"
     ]
    }
   ],
   "source": [
    "t = year % 2 == 0 or year % 3 > 1\n",
    "print(t)"
   ]
  },
  {
   "cell_type": "code",
   "execution_count": 27,
   "metadata": {},
   "outputs": [
    {
     "name": "stdout",
     "output_type": "stream",
     "text": [
      "True\n"
     ]
    },
    {
     "name": "stderr",
     "output_type": "stream",
     "text": [
      "<>:1: SyntaxWarning: \"is\" with a literal. Did you mean \"==\"?\n",
      "<>:1: SyntaxWarning: \"is\" with a literal. Did you mean \"==\"?\n",
      "<ipython-input-27-2c82b57037fa>:1: SyntaxWarning: \"is\" with a literal. Did you mean \"==\"?\n",
      "  print(5 is 5)\n"
     ]
    }
   ],
   "source": [
    "print(5 is 5)"
   ]
  },
  {
   "cell_type": "code",
   "execution_count": 29,
   "metadata": {},
   "outputs": [
    {
     "name": "stdout",
     "output_type": "stream",
     "text": [
      "False\n"
     ]
    },
    {
     "name": "stderr",
     "output_type": "stream",
     "text": [
      "<>:1: SyntaxWarning: \"is not\" with a literal. Did you mean \"!=\"?\n",
      "<>:1: SyntaxWarning: \"is not\" with a literal. Did you mean \"!=\"?\n",
      "<ipython-input-29-b8274256130c>:1: SyntaxWarning: \"is not\" with a literal. Did you mean \"!=\"?\n",
      "  print(5 is not 5)\n"
     ]
    }
   ],
   "source": [
    "print(5 is not 5)"
   ]
  },
  {
   "cell_type": "code",
   "execution_count": 30,
   "metadata": {},
   "outputs": [
    {
     "name": "stdout",
     "output_type": "stream",
     "text": [
      "4.5\n"
     ]
    }
   ],
   "source": [
    "print(9/2)"
   ]
  },
  {
   "cell_type": "code",
   "execution_count": 31,
   "metadata": {},
   "outputs": [
    {
     "name": "stdout",
     "output_type": "stream",
     "text": [
      "4\n"
     ]
    }
   ],
   "source": [
    "print(9//2)"
   ]
  },
  {
   "cell_type": "code",
   "execution_count": 32,
   "metadata": {},
   "outputs": [
    {
     "name": "stdout",
     "output_type": "stream",
     "text": [
      "1\n"
     ]
    }
   ],
   "source": [
    "print(9%2)"
   ]
  },
  {
   "cell_type": "code",
   "execution_count": null,
   "metadata": {},
   "outputs": [],
   "source": []
  }
 ],
 "metadata": {
  "kernelspec": {
   "display_name": "Python 3",
   "language": "python",
   "name": "python3"
  },
  "language_info": {
   "codemirror_mode": {
    "name": "ipython",
    "version": 3
   },
   "file_extension": ".py",
   "mimetype": "text/x-python",
   "name": "python",
   "nbconvert_exporter": "python",
   "pygments_lexer": "ipython3",
   "version": "3.9.0"
  }
 },
 "nbformat": 4,
 "nbformat_minor": 4
}
