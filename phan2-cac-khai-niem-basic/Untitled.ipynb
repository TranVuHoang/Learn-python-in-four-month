{
 "cells": [
  {
   "cell_type": "code",
   "execution_count": 1,
   "metadata": {},
   "outputs": [],
   "source": [
    "#NỘI DUNG BÀI HỌC\n",
    "# 1. Các kiểu dữ liệu cơ bản trong Python\n",
    "# 2. Khai báo biến trong python\n",
    "# 3. Cách xóa biến\n",
    "# 4. Cách kiểm tra vùng lưu trữ giá trị của các biến int, float"
   ]
  },
  {
   "cell_type": "code",
   "execution_count": 2,
   "metadata": {},
   "outputs": [],
   "source": [
    "#1. Các kiểu dữ liệu cơ bản trong python\n",
    "\n",
    "# *Kiểu int: Kiểu số nguyên(không có chứa dấu chấm thập phân), có thể lưu \n",
    "#  các số nguyên âm và dương.\n",
    "# - Ví dụ:113, -114\n",
    "\n",
    "# *Kiểu float: Kiểu số thực (có chứa dấu chấm thập phân),\n",
    "# -Ví dụ: 5.2, -7.3\n",
    "\n",
    "# *Kiểu complex: Kiểu số thực,\n",
    "# -Ví dụ 1: z = 2+3j thì 2 là phần thực, 3 là phần ảo(j là từ khóa để đánh dấu phần ảo)\n",
    "# -Ví dụ 2: z = complex(2, 3) thì 2 là phần thực, 3 là phần ảo\n",
    "# -Khi xuất kết quả ta có thể xuất:\n",
    "# *print(\"Phần thực: \", z.real) ==> phần thực = 2\n",
    "# *print(\"Phần ảo: \", z.imag) ==> phần ảo = 3"
   ]
  },
  {
   "cell_type": "code",
   "execution_count": 3,
   "metadata": {},
   "outputs": [],
   "source": [
    "# Kiểu chuỗi str: Kiểu chuỗi, để trong \"nháy đôi\" hoặc 'nháy đơn'\n",
    "# -Ví dụ: \"Obama\", 'Putin'\n",
    "\n",
    "# Kiểu bool: Kiểu luận lý, để lưu True hoặc False\n",
    "# -Vd1: t1 = True\n",
    "# Vd2: t2 = False"
   ]
  },
  {
   "cell_type": "code",
   "execution_count": 4,
   "metadata": {},
   "outputs": [],
   "source": [
    "#2. Khai báo biến trong python\n",
    "# Trong python một biến không cần khai báo kiểu dữ liệu, khi ta gán giá trị thì \n",
    "# tự động Python sẽ nội suy ra kiểu dữ liệu của biến. Như vậy 1 biến có thể có \n",
    "# nhiều kiểu dl tùy thuộc vào giá trị mà ta gán. \n",
    "# Ta có thể dùng hàm type() để kiểm tra kiểu dữ liệu của biến"
   ]
  },
  {
   "cell_type": "code",
   "execution_count": 8,
   "metadata": {},
   "outputs": [
    {
     "name": "stdout",
     "output_type": "stream",
     "text": [
      "<class 'int'>\n",
      "<class 'str'>\n",
      "<class 'bool'>\n",
      "<class 'float'>\n",
      "<class 'complex'>\n",
      "<class 'complex'>\n",
      "2.0 3.0\n"
     ]
    }
   ],
   "source": [
    "x = 5\n",
    "print(type(x))\n",
    "x = \"tèo\"\n",
    "print(type(x))\n",
    "x= True\n",
    "print(type(x))\n",
    "x = 5.5\n",
    "print(type(x))\n",
    "x = complex(2, 3)\n",
    "print(type(x))\n",
    "print(type(x))\n",
    "print(x.real, x.imag)"
   ]
  },
  {
   "cell_type": "code",
   "execution_count": null,
   "metadata": {},
   "outputs": [],
   "source": [
    "# 3. Cách xóa biến\n",
    "# Trong python có 1 điểm thú vị: Nếu biến đó đang tồn tại"
   ]
  }
 ],
 "metadata": {
  "kernelspec": {
   "display_name": "Python 3",
   "language": "python",
   "name": "python3"
  },
  "language_info": {
   "codemirror_mode": {
    "name": "ipython",
    "version": 3
   },
   "file_extension": ".py",
   "mimetype": "text/x-python",
   "name": "python",
   "nbconvert_exporter": "python",
   "pygments_lexer": "ipython3",
   "version": "3.9.0"
  }
 },
 "nbformat": 4,
 "nbformat_minor": 4
}
