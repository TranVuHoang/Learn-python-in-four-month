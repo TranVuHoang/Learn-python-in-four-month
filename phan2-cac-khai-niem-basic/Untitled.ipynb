{
 "cells": [
  {
   "cell_type": "code",
   "execution_count": 1,
   "metadata": {},
   "outputs": [],
   "source": [
    "#NỘI DUNG BÀI HỌC\n",
    "# 1. Các kiểu dữ liệu cơ bản trong Python\n",
    "# 2. Khai báo biến trong python\n",
    "# 3. Cách xóa biến\n",
    "# 4. Cách kiểm tra vùng lưu trữ giá trị của các biến int, float"
   ]
  },
  {
   "cell_type": "code",
   "execution_count": 2,
   "metadata": {},
   "outputs": [],
   "source": [
    "#1. Các kiểu dữ liệu cơ bản trong python\n",
    "\n",
    "# *Kiểu int: Kiểu số nguyên(không có chứa dấu chấm thập phân), có thể lưu \n",
    "#  các số nguyên âm và dương.\n",
    "# - Ví dụ:113, -114\n",
    "\n",
    "# *Kiểu float: Kiểu số thực (có chứa dấu chấm thập phân),\n",
    "# -Ví dụ: 5.2, -7.3\n",
    "\n",
    "# *Kiểu complex: Kiểu số thực,\n",
    "# -Ví dụ 1: z = 2+3j thì 2 là phần thực, 3 là phần ảo(j là từ khóa để đánh dấu phần ảo)\n",
    "# -Ví dụ 2: z = complex(2, 3) thì 2 là phần thực, 3 là phần ảo\n",
    "# -Khi xuất kết quả ta có thể xuất:\n",
    "# *print(\"Phần thực: \", z.real) ==> phần thực = 2\n",
    "# *print(\"Phần ảo: \", z.imag) ==> phần ảo = 3"
   ]
  },
  {
   "cell_type": "code",
   "execution_count": 3,
   "metadata": {},
   "outputs": [],
   "source": [
    "# Kiểu chuỗi str: Kiểu chuỗi, để trong \"nháy đôi\" hoặc 'nháy đơn'\n",
    "# -Ví dụ: \"Obama\", 'Putin'\n",
    "\n",
    "# Kiểu bool: Kiểu luận lý, để lưu True hoặc False\n",
    "# -Vd1: t1 = True\n",
    "# Vd2: t2 = False"
   ]
  },
  {
   "cell_type": "code",
   "execution_count": 4,
   "metadata": {},
   "outputs": [],
   "source": [
    "#2. Khai báo biến trong python\n",
    "# Trong python một biến không cần khai báo kiểu dữ liệu, khi ta gán giá trị thì \n",
    "# tự động Python sẽ nội suy ra kiểu dữ liệu của biến. Như vậy 1 biến có thể có \n",
    "# nhiều kiểu dl tùy thuộc vào giá trị mà ta gán. \n",
    "# Ta có thể dùng hàm type() để kiểm tra kiểu dữ liệu của biến"
   ]
  },
  {
   "cell_type": "code",
   "execution_count": 8,
   "metadata": {},
   "outputs": [
    {
     "name": "stdout",
     "output_type": "stream",
     "text": [
      "<class 'int'>\n",
      "<class 'str'>\n",
      "<class 'bool'>\n",
      "<class 'float'>\n",
      "<class 'complex'>\n",
      "<class 'complex'>\n",
      "2.0 3.0\n"
     ]
    }
   ],
   "source": [
    "x = 5\n",
    "print(type(x))\n",
    "x = \"tèo\"\n",
    "print(type(x))\n",
    "x= True\n",
    "print(type(x))\n",
    "x = 5.5\n",
    "print(type(x))\n",
    "x = complex(2, 3)\n",
    "print(type(x))\n",
    "print(type(x))\n",
    "print(x.real, x.imag)"
   ]
  },
  {
   "cell_type": "code",
   "execution_count": 9,
   "metadata": {},
   "outputs": [
    {
     "name": "stdout",
     "output_type": "stream",
     "text": [
      "Obama\n"
     ]
    },
    {
     "ename": "NameError",
     "evalue": "name 'x' is not defined",
     "output_type": "error",
     "traceback": [
      "\u001b[1;31m---------------------------------------------------------------------------\u001b[0m",
      "\u001b[1;31mNameError\u001b[0m                                 Traceback (most recent call last)",
      "\u001b[1;32m<ipython-input-9-e830083687d3>\u001b[0m in \u001b[0;36m<module>\u001b[1;34m\u001b[0m\n\u001b[0;32m      7\u001b[0m \u001b[0mprint\u001b[0m\u001b[1;33m(\u001b[0m\u001b[0mx\u001b[0m\u001b[1;33m)\u001b[0m\u001b[1;33m\u001b[0m\u001b[1;33m\u001b[0m\u001b[0m\n\u001b[0;32m      8\u001b[0m \u001b[1;32mdel\u001b[0m\u001b[1;33m(\u001b[0m\u001b[0mx\u001b[0m\u001b[1;33m)\u001b[0m\u001b[1;33m\u001b[0m\u001b[1;33m\u001b[0m\u001b[0m\n\u001b[1;32m----> 9\u001b[1;33m \u001b[0mprint\u001b[0m\u001b[1;33m(\u001b[0m\u001b[0mx\u001b[0m\u001b[1;33m)\u001b[0m\u001b[1;33m\u001b[0m\u001b[1;33m\u001b[0m\u001b[0m\n\u001b[0m",
      "\u001b[1;31mNameError\u001b[0m: name 'x' is not defined"
     ]
    }
   ],
   "source": [
    "# 3. Cách xóa biến\n",
    "# Trong python có 1 điểm thú vị: Nếu biến đó đang tồn tại mà ta xóa nó đi thì\n",
    "# không còn xử dụng được nữa (tương tự trong C++ khi chúng ta thu hồi bộ nhớ của con trỏ)\n",
    "# --> python dùng từ khóa \"del\" để xóa\n",
    " \n",
    "x = \"Obama\"\n",
    "print(x)\n",
    "del(x)\n",
    "print(x)"
   ]
  },
  {
   "cell_type": "code",
   "execution_count": 10,
   "metadata": {},
   "outputs": [
    {
     "name": "stdout",
     "output_type": "stream",
     "text": [
      "Thông tin chi tiết của int:\n",
      "sys.int_info(bits_per_digit=30, sizeof_digit=4)\n",
      "Thông tin chi tiết của float:\n",
      "sys.float_info(max=1.7976931348623157e+308, max_exp=1024, max_10_exp=308, min=2.2250738585072014e-308, min_exp=-1021, min_10_exp=-307, dig=15, mant_dig=53, epsilon=2.220446049250313e-16, radix=2, rounds=1)\n"
     ]
    }
   ],
   "source": [
    "# 4. Cách kiểm tra vùng lưu trữ giá trị của biến int, float bằng cách import\n",
    "# thư viện \"sys\" để có  thể xem được chi tiết:\n",
    "\n",
    "import sys\n",
    "print(\"Thông tin chi tiết của int:\")\n",
    "print(sys.int_info)\n",
    "print(\"Thông tin chi tiết của float:\")\n",
    "print(sys.float_info)"
   ]
  },
  {
   "cell_type": "code",
   "execution_count": null,
   "metadata": {},
   "outputs": [],
   "source": []
  }
 ],
 "metadata": {
  "kernelspec": {
   "display_name": "Python 3",
   "language": "python",
   "name": "python3"
  },
  "language_info": {
   "codemirror_mode": {
    "name": "ipython",
    "version": 3
   },
   "file_extension": ".py",
   "mimetype": "text/x-python",
   "name": "python",
   "nbconvert_exporter": "python",
   "pygments_lexer": "ipython3",
   "version": "3.9.0"
  }
 },
 "nbformat": 4,
 "nbformat_minor": 4
}
