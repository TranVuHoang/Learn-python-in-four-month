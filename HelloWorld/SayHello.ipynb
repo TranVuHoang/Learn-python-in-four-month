{
 "cells": [
  {
   "cell_type": "code",
   "execution_count": 1,
   "metadata": {},
   "outputs": [
    {
     "name": "stdout",
     "output_type": "stream",
     "text": [
      "Làm chủ python trong 4 giờ\n",
      "5 +8=13\n"
     ]
    }
   ],
   "source": [
    "print(\"Làm chủ python trong 4 giờ\")\n",
    "x = 5\n",
    "y = 8\n",
    "z = x+y\n",
    "print(\"{0} +{1}={2}\".format(x, y, z))"
   ]
  },
  {
   "cell_type": "code",
   "execution_count": 3,
   "metadata": {},
   "outputs": [
    {
     "name": "stdout",
     "output_type": "stream",
     "text": [
      "Tên tôi là:  Trần Vũ Hoàng\n"
     ]
    }
   ],
   "source": [
    "fullname = \"Trần Vũ Hoàng\"\n",
    "print(\"Tên tôi là: \", fullname)"
   ]
  },
  {
   "cell_type": "code",
   "execution_count": null,
   "metadata": {},
   "outputs": [],
   "source": []
  }
 ],
 "metadata": {
  "kernelspec": {
   "display_name": "Python 3",
   "language": "python",
   "name": "python3"
  },
  "language_info": {
   "codemirror_mode": {
    "name": "ipython",
    "version": 3
   },
   "file_extension": ".py",
   "mimetype": "text/x-python",
   "name": "python",
   "nbconvert_exporter": "python",
   "pygments_lexer": "ipython3",
   "version": "3.9.0"
  }
 },
 "nbformat": 4,
 "nbformat_minor": 4
}
